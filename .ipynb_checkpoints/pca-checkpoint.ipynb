{
 "cells": [
  {
   "cell_type": "code",
   "execution_count": 9,
   "id": "904875e7",
   "metadata": {},
   "outputs": [
    {
     "data": {
      "text/plain": [
       "<Figure size 432x288 with 0 Axes>"
      ]
     },
     "metadata": {},
     "output_type": "display_data"
    }
   ],
   "source": [
    "\n",
    "from ImageFusion import ImageFusion\n",
    "from PIL import Image\n",
    "import numpy as np\n",
    "import pylab as plt\n",
    "\n",
    "class FusionPCA(ImageFusion):\n",
    "    \"\"\" Image fusion based PCA\"\"\"\n",
    "    def __init__(self, imageNames):\n",
    "        self._imageNames = imageNames\n",
    "        self._images = []\n",
    "        self._fusionImage = None\n",
    "\n",
    "    def _load_images(self):\n",
    "        for name in self._imageNames:\n",
    "            self._images.append(np.array(Image.open(name), 'f'))\n",
    "    def fusion(self):\n",
    "        self._load_images()\n",
    "        imageSize = self._images[0].size\n",
    "        # Todo: for more than two images\n",
    "        allImage = np.concatenate((self._images[0].reshape(1, imageSize), self._images[1].reshape(1, imageSize)), axis=0)\n",
    "        covImage = np.cov(allImage)\n",
    "        D, V = np.linalg.eig(covImage)\n",
    "        if D[0] > D[1]:\n",
    "            a = V[:,0] / V[:,0].sum()\n",
    "        else:\n",
    "            a = V[:,1] / V[:,1].sum()\n",
    "        self._fusionImage = self._images[0]*a[0] + self._images[1]*a[1]\n",
    "        return self._fusionImage\n",
    "    \n",
    "\n",
    "if __name__ == '__main__':\n",
    "    IMAGEPATH = \"images/MRI-CT/\"\n",
    "    imLists = [IMAGEPATH+\"ct.png\",IMAGEPATH+\"mr.png\"]\n",
    "    fu = FusionPCA(imLists)\n",
    "    fu.fusion()\n",
    "    fu.plot()\n",
    "\n",
    "\n",
    "   "
   ]
  },
  {
   "cell_type": "code",
   "execution_count": 11,
   "id": "e85a1550",
   "metadata": {},
   "outputs": [],
   "source": [
    "def plot(self):\n",
    "        plt.figure(0)\n",
    "        plt.gray()\n",
    "        plt.subplot(131)\n",
    "        plt.imshow(self._fusionImage)\n",
    "        plt.show()"
   ]
  },
  {
   "cell_type": "code",
   "execution_count": 15,
   "id": "c066fe2d",
   "metadata": {},
   "outputs": [
    {
     "ename": "NameError",
     "evalue": "name 'self' is not defined",
     "output_type": "error",
     "traceback": [
      "\u001b[1;31m---------------------------------------------------------------------------\u001b[0m",
      "\u001b[1;31mNameError\u001b[0m                                 Traceback (most recent call last)",
      "\u001b[1;32m~\\AppData\\Local\\Temp/ipykernel_1580/1597887122.py\u001b[0m in \u001b[0;36m<module>\u001b[1;34m\u001b[0m\n\u001b[0;32m      1\u001b[0m \u001b[0mfig\u001b[0m\u001b[1;33m,\u001b[0m \u001b[1;33m(\u001b[0m\u001b[0max1\u001b[0m\u001b[1;33m,\u001b[0m \u001b[0max2\u001b[0m\u001b[1;33m,\u001b[0m \u001b[0max3\u001b[0m\u001b[1;33m)\u001b[0m \u001b[1;33m=\u001b[0m \u001b[0mplt\u001b[0m\u001b[1;33m.\u001b[0m\u001b[0msubplots\u001b[0m\u001b[1;33m(\u001b[0m\u001b[1;36m1\u001b[0m\u001b[1;33m,\u001b[0m \u001b[1;36m3\u001b[0m\u001b[1;33m)\u001b[0m\u001b[1;33m\u001b[0m\u001b[1;33m\u001b[0m\u001b[0m\n\u001b[0;32m      2\u001b[0m \u001b[1;33m\u001b[0m\u001b[0m\n\u001b[1;32m----> 3\u001b[1;33m \u001b[0max1\u001b[0m\u001b[1;33m.\u001b[0m\u001b[0mimshow\u001b[0m\u001b[1;33m(\u001b[0m\u001b[0mself\u001b[0m\u001b[1;33m.\u001b[0m\u001b[0m_images\u001b[0m\u001b[1;33m[\u001b[0m\u001b[1;36m0\u001b[0m\u001b[1;33m]\u001b[0m\u001b[1;33m)\u001b[0m\u001b[1;33m\u001b[0m\u001b[1;33m\u001b[0m\u001b[0m\n\u001b[0m\u001b[0;32m      4\u001b[0m \u001b[0max2\u001b[0m\u001b[1;33m.\u001b[0m\u001b[0mimshow\u001b[0m\u001b[1;33m(\u001b[0m\u001b[0mself\u001b[0m\u001b[1;33m.\u001b[0m\u001b[0m_images\u001b[0m\u001b[1;33m[\u001b[0m\u001b[1;36m1\u001b[0m\u001b[1;33m]\u001b[0m\u001b[1;33m)\u001b[0m\u001b[1;33m\u001b[0m\u001b[1;33m\u001b[0m\u001b[0m\n\u001b[0;32m      5\u001b[0m \u001b[0max3\u001b[0m\u001b[1;33m.\u001b[0m\u001b[0mimshow\u001b[0m\u001b[1;33m(\u001b[0m\u001b[0mself\u001b[0m\u001b[1;33m.\u001b[0m\u001b[0m_fusionImage\u001b[0m\u001b[1;33m)\u001b[0m\u001b[1;33m\u001b[0m\u001b[1;33m\u001b[0m\u001b[0m\n",
      "\u001b[1;31mNameError\u001b[0m: name 'self' is not defined"
     ]
    },
    {
     "data": {
      "image/png": "[encoded data removed]",
      "text/plain": [
       "<Figure size 432x288 with 3 Axes>"
      ]
     },
     "metadata": {
      "needs_background": "light"
     },
     "output_type": "display_data"
    }
   ],
   "source": [
    "\n",
    "fig, (ax1, ax2, ax3) = plt.subplots(1, 3)\n",
    "\n",
    "ax1.imshow(self._images[0])\n",
    "ax2.imshow(self._images[1])\n",
    "ax3.imshow(self._fusionImage)"
   ]
  },
  {
   "cell_type": "code",
   "execution_count": 12,
   "id": "6ff1ed95",
   "metadata": {},
   "outputs": [
    {
     "data": {
      "text/plain": [
       "<Figure size 432x288 with 0 Axes>"
      ]
     },
     "metadata": {},
     "output_type": "display_data"
    }
   ],
   "source": [
    "if __name__ == '__main__':\n",
    "    IMAGEPATH = \"images/MRI-CT/\"\n",
    "    imLists = [IMAGEPATH+\"ct.png\",IMAGEPATH+\"mr.png\"]\n",
    "    fu = FusionPCA(imLists)\n",
    "    fu.fusion()\n",
    "    fu.plot()"
   ]
  },
  {
   "cell_type": "code",
   "execution_count": null,
   "id": "569cb1fc",
   "metadata": {},
   "outputs": [],
   "source": [
    "# import opencv\n",
    "import cv2\n",
    "\n",
    "# Load the input image\n",
    "image = cv2.imread('results/fusion ct.png')\n",
    "cv2.imshow('Original', image)\n",
    "cv2.waitKey(0)\n",
    "\n",
    "\n",
    "plt.imshow(self._images[0])\n",
    "        plt.subplot(132)\n",
    "        plt.imshow(self._images[1])\n",
    "        plt.subplot(133)\n"
   ]
  },
  {
   "cell_type": "code",
   "execution_count": null,
   "id": "0c960f1c",
   "metadata": {},
   "outputs": [],
   "source": [
    "# Use the cvtColor() function to grayscale the image\n",
    "gray_image = cv2.cvtColor(image, cv2.COLOR_BGR2GRAY)\n",
    "\n",
    "cv2.imshow('Grayscale', gray_image)\n",
    "cv2.waitKey(0)\n",
    "\n",
    "# Window shown waits for any key pressing event\n",
    "cv2.destroyAllWindows()\n"
   ]
  },
  {
   "cell_type": "code",
   "execution_count": 1,
   "id": "f4e02d44",
   "metadata": {},
   "outputs": [],
   "source": [
    "from cv2 import imread, imwrite\n",
    "from pyFusion.PCA import FusionPCA\n",
    "\n",
    "import matplotlib.pyplot as plt"
   ]
  },
  {
   "cell_type": "code",
   "execution_count": 2,
   "id": "1ce85768",
   "metadata": {},
   "outputs": [],
   "source": [
    "\n",
    "# Parse arguments\n",
    "images = ['images/MRI-SPECT/mr.png', 'images/MRI-SPECT/tc.png']\n",
    "output = 'results/MRI-SPECT/'\n",
    "\n",
    "# Read images\n",
    "input_images = []\n",
    "for image in images:\n",
    "    input_images.append(imread(image))"
   ]
  },
  {
   "cell_type": "code",
   "execution_count": 3,
   "id": "7d1cee82",
   "metadata": {},
   "outputs": [
    {
     "ename": "AttributeError",
     "evalue": "'FusionPCA' object has no attribute 'PCA'",
     "output_type": "error",
     "traceback": [
      "\u001b[1;31m---------------------------------------------------------------------------\u001b[0m",
      "\u001b[1;31mAttributeError\u001b[0m                            Traceback (most recent call last)",
      "\u001b[1;32m~\\AppData\\Local\\Temp/ipykernel_12176/1936502173.py\u001b[0m in \u001b[0;36m<module>\u001b[1;34m\u001b[0m\n\u001b[0;32m      1\u001b[0m \u001b[1;31m# Compute fusion image\u001b[0m\u001b[1;33m\u001b[0m\u001b[1;33m\u001b[0m\u001b[1;33m\u001b[0m\u001b[0m\n\u001b[0;32m      2\u001b[0m \u001b[0mfu\u001b[0m \u001b[1;33m=\u001b[0m \u001b[0mFusionPCA\u001b[0m\u001b[1;33m(\u001b[0m\u001b[0minput_images\u001b[0m\u001b[1;33m)\u001b[0m\u001b[1;33m\u001b[0m\u001b[1;33m\u001b[0m\u001b[0m\n\u001b[1;32m----> 3\u001b[1;33m \u001b[0mfusion_img\u001b[0m \u001b[1;33m=\u001b[0m \u001b[0mfu\u001b[0m\u001b[1;33m.\u001b[0m\u001b[0mPCA\u001b[0m\u001b[1;33m(\u001b[0m\u001b[1;33m)\u001b[0m\u001b[1;33m\u001b[0m\u001b[1;33m\u001b[0m\u001b[0m\n\u001b[0m",
      "\u001b[1;31mAttributeError\u001b[0m: 'FusionPCA' object has no attribute 'PCA'"
     ]
    }
   ],
   "source": [
    "\n",
    "# Compute fusion image\n",
    "fu = FusionPCA(input_images)\n",
    "fusion_img = fu.fusion()"
   ]
  },
  {
   "cell_type": "code",
   "execution_count": null,
   "id": "97de70df",
   "metadata": {},
   "outputs": [],
   "source": []
  }
 ],
 "metadata": {
  "kernelspec": {
   "display_name": "Python 3 (ipykernel)",
   "language": "python",
   "name": "python3"
  },
  "language_info": {
   "codemirror_mode": {
    "name": "ipython",
    "version": 3
   },
   "file_extension": ".py",
   "mimetype": "text/x-python",
   "name": "python",
   "nbconvert_exporter": "python",
   "pygments_lexer": "ipython3",
   "version": "3.7.11"
  }
 },
 "nbformat": 4,
 "nbformat_minor": 5
}

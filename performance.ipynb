{
 "cells": [
  {
   "cell_type": "code",
   "execution_count": 1,
   "id": "8f0fdbc4",
   "metadata": {},
   "outputs": [],
   "source": [
    "import cv2\n",
    "import numpy as np\n",
    "from sewar import full_ref\n",
    "from skimage import measure, metrics\n",
    "\n",
    "from pyFusion.iqa import metrics\n",
    "from pyFusion.iqa import xideasPetrovic as xp\n",
    "from PIL import Image\n",
    "\n",
    "from pyFusion.legacy.basic_cv_tool import *"
   ]
  },
  {
   "cell_type": "code",
   "execution_count": 2,
   "id": "b39403b5",
   "metadata": {},
   "outputs": [],
   "source": [
    "#Reference and image to be compared must be of the same size\n",
    "ref_img = cv2.imread(\"images/MRI-CT/ct1.png\", 1)\n",
    "ref_img1 = cv2.imread(\"images/MRI-CT/mri.png\", 1)\n",
    "img = cv2.imread(\"results/MRI-CT/vgg19.png\", 1)\n",
    "#img = cv2.imread(\"results/MRI-CT/vgg16.png\", 1)\n",
    "#img = cv2.imread(\"results/MRI-CT/squeeze.png\", 1)\n",
    "\n",
    "#ref_img = cv2.imread(\"images/MRI-PET/dg.png\", 1)\n",
    "#ref_img1 = cv2.imread(\"images/MRI-PET/mr.png\", 1)\n",
    "#img = cv2.imread(\"results/MRI-PET/petpca-fusion.png\", 1)\n",
    "#img = cv2.imread(\"results/MRI-PET/vgg19.png\", 1)\n",
    "#img = cv2.imread(\"results/MRI-PET/squeeze.png\", 1)\n",
    "#img = cv2.imread(\"results/MRI-PET/vgg16.png\", 1)\n",
    "\n",
    "\n",
    "#ref_img = cv2.imread(\"images/MRI-SPECT/tc.png\", 1)\n",
    "#ref_img1 = cv2.imread(\"images/MRI-PET/mr.png\", 1)\n",
    "#img = cv2.imread(\"results/MRI-PET/petpca-fusion.png\", 1)\n",
    "#img = cv2.imread(\"results/MRI-PET/vgg19.png\", 1)\n",
    "#img = cv2.imread(\"results/MRI-PET/squeeze.png\", 1)\n",
    "#img = cv2.imread(\"results/MRI-PET/vgg16.png\", 1)\n",
    "\n",
    "\n",
    "#ref_img = cv2.imread(\"images/T1-T2/t1.png\", 1)\n",
    "#ref_img1 = cv2.imread(\"images/T1-T2/t2.png\", 1)\n",
    "#img = cv2.imread(\"results/MRI-PET/petpca-fusion.png\", 1)\n",
    "#img = cv2.imread(\"results/MRI-PET/vgg19.png\", 1)\n",
    "#img = cv2.imread(\"results/MRI-PET/squeeze.png\", 1)\n",
    "#img = cv2.imread(\"results/MRI-PET/vgg16.png\", 1)"
   ]
  },
  {
   "cell_type": "code",
   "execution_count": 3,
   "id": "85b663ed",
   "metadata": {},
   "outputs": [
    {
     "name": "stdout",
     "output_type": "stream",
     "text": [
      "MSE:  =  5037.110862731934\n"
     ]
    }
   ],
   "source": [
    "mse0 = metrics.mean_squared_error(ref_img, img) \n",
    "mse1 = metrics.mean_squared_error(ref_img1, img) \n",
    "mean_mse = (mse0 + mse1) / 2\n",
    "mean_mse\n",
    "print(\"MSE:  = \", mean_mse)"
   ]
  },
  {
   "cell_type": "code",
   "execution_count": 4,
   "id": "a32d4d12",
   "metadata": {},
   "outputs": [
    {
     "name": "stdout",
     "output_type": "stream",
     "text": [
      "SSIM:  =  0.3509550000005117\n"
     ]
    }
   ],
   "source": [
    "from skimage.metrics import structural_similarity as ssim\n",
    "ssim_skimg = ssim(ref_img, img,\n",
    "                  data_range = img.max() - img.min(), \n",
    "                  multichannel = True)\n",
    "ssim_skimg1 = ssim(ref_img1, img,\n",
    "                  data_range = img.max() - img.min(), \n",
    "                  multichannel = True)\n",
    "ssim=(ssim_skimg+ssim_skimg1)/2\n",
    "print(\"SSIM:  = \", ssim)"
   ]
  },
  {
   "cell_type": "code",
   "execution_count": 5,
   "id": "e1f4db30",
   "metadata": {},
   "outputs": [
    {
     "name": "stdout",
     "output_type": "stream",
     "text": [
      "VIFP: Pixel Based Visual Information Fidelity =  0.04013931053594453\n"
     ]
    }
   ],
   "source": [
    "#Pixel Based Visual Information Fidelity (vif-p)\n",
    "\"\"\"calculates Pixel Based Visual Information Fidelity (vif-p).\n",
    "\n",
    ":param GT: first (original) input image.\n",
    ":param P: second (deformed) input image.\n",
    ":param sigma_nsq: variance of the visual noise (default = 2)\n",
    "\n",
    ":returns:  float -- vif-p value.\n",
    "\"\"\"\n",
    "VIFP_img = full_ref.vifp(ref_img, img, sigma_nsq=2)\n",
    "VIFP_img1 = full_ref.vifp(ref_img1, img, sigma_nsq=2)\n",
    "vifp=(VIFP_img+VIFP_img1)/2\n",
    "print(\"VIFP: Pixel Based Visual Information Fidelity = \", vifp)"
   ]
  },
  {
   "cell_type": "code",
   "execution_count": 6,
   "id": "0eb9c86c",
   "metadata": {},
   "outputs": [
    {
     "name": "stdout",
     "output_type": "stream",
     "text": [
      "Entropy: 6.379199190059769\n"
     ]
    }
   ],
   "source": [
    "en0 = metrics.entropy_2d(ref_img,img)\n",
    "en1 = metrics.entropy_2d(ref_img1, img)\n",
    "mean_entropy = (en0 + en1) / 2\n",
    "mean_entropy\n",
    "print(\"Entropy:\",mean_entropy)"
   ]
  },
  {
   "cell_type": "code",
   "execution_count": 7,
   "id": "9e44b609",
   "metadata": {},
   "outputs": [
    {
     "name": "stdout",
     "output_type": "stream",
     "text": [
      "Mutal information: 0.6841185496018536\n"
     ]
    }
   ],
   "source": [
    "mi0 = metrics.mutual_information_2d(ref_img, img)\n",
    "mi1 = metrics.mutual_information_2d(ref_img1, img)\n",
    "mean_mi = (mi0 + mi1) / 2\n",
    "\n",
    "print(\"Mutal information:\",mean_mi)"
   ]
  },
  {
   "cell_type": "code",
   "execution_count": null,
   "id": "bf019e3a",
   "metadata": {},
   "outputs": [],
   "source": []
  }
 ],
 "metadata": {
  "kernelspec": {
   "display_name": "Python 3",
   "language": "python",
   "name": "python3"
  },
  "language_info": {
   "codemirror_mode": {
    "name": "ipython",
    "version": 3
   },
   "file_extension": ".py",
   "mimetype": "text/x-python",
   "name": "python",
   "nbconvert_exporter": "python",
   "pygments_lexer": "ipython3",
   "version": "3.6.4"
  }
 },
 "nbformat": 4,
 "nbformat_minor": 5
}
